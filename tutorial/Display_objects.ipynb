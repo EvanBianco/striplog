{
 "cells": [
  {
   "cell_type": "markdown",
   "metadata": {},
   "source": [
    "# Display objects"
   ]
  },
  {
   "cell_type": "markdown",
   "metadata": {},
   "source": [
    "A `striplog` depends on a hierarchy of objects. This notebook shows the objects related to display:\n",
    "\n",
    "- [Decor](#Decor): One element from a legend — describes how to display a Rock.\n",
    "- [Legend](#Legend): A set of Decors — describes how to display a set of Rocks or a Striplog."
   ]
  },
  {
   "cell_type": "markdown",
   "metadata": {},
   "source": [
    "<hr />"
   ]
  },
  {
   "cell_type": "markdown",
   "metadata": {},
   "source": [
    "## Decor"
   ]
  },
  {
   "cell_type": "code",
   "execution_count": 1,
   "metadata": {
    "collapsed": false
   },
   "outputs": [],
   "source": [
    "from striplog import Decor"
   ]
  },
  {
   "cell_type": "markdown",
   "metadata": {},
   "source": [
    "A Decor attaches a display style to a Rock. "
   ]
  },
  {
   "cell_type": "code",
   "execution_count": 2,
   "metadata": {
    "collapsed": false
   },
   "outputs": [
    {
     "name": "stdout",
     "output_type": "stream",
     "text": [
      "\n",
      "    A single display style. A Decor describes how to display a given set\n",
      "    of Component properties.\n",
      "\n",
      "    In general, you will not usually use a Decor on its own. Instead, you\n",
      "    will want to use a Legend, which is just a list of Decors, and leave\n",
      "    the Decors to the Legend.\n",
      "\n",
      "    Args:\n",
      "      params (dict): The parameters you want in the Decor. There must be a\n",
      "        Component to attach the decoration to, and at least 1 other attribute.\n",
      "        It's completely up to you, but you probably want at least a colour\n",
      "        (hex names like #AAA or #d3d3d3, or matplotlib's English-language\n",
      "        names listed at http://ageo.co/modelrcolour are acceptable.\n",
      "\n",
      "        The only other parameter the class recognizes for now is 'width',\n",
      "        which is the width of the striplog element.\n",
      "\n",
      "    Example:\n",
      "      my_rock = Component({ ... })\n",
      "      d = {'component': my_rock, 'colour': 'red'}\n",
      "      my_decor = Decor(d)\n",
      "    \n"
     ]
    }
   ],
   "source": [
    "print(Decor.__doc__)"
   ]
  },
  {
   "cell_type": "markdown",
   "metadata": {},
   "source": [
    "We are going to need a `Component` to make a `Decor`."
   ]
  },
  {
   "cell_type": "code",
   "execution_count": 3,
   "metadata": {
    "collapsed": false
   },
   "outputs": [
    {
     "data": {
      "text/plain": [
       "Component(\"colour\":\"grey\", \"grainsize\":\"vf-f\", \"lithology\":\"sand\")"
      ]
     },
     "execution_count": 3,
     "metadata": {},
     "output_type": "execute_result"
    }
   ],
   "source": [
    "from striplog import Component\n",
    "r = {'colour': 'grey',\n",
    "     'grainsize': 'vf-f',\n",
    "     'lithology': 'sand'}\n",
    "rock = Component(r)\n",
    "rock"
   ]
  },
  {
   "cell_type": "markdown",
   "metadata": {},
   "source": [
    "Like `Rock`s, we instantiate `Decor`s with a `dict` of properties:"
   ]
  },
  {
   "cell_type": "code",
   "execution_count": 4,
   "metadata": {
    "collapsed": false
   },
   "outputs": [
    {
     "data": {
      "text/plain": [
       "Decor(colour='#86f0b6', component='\"colour\":\"grey\", \"grainsize\":\"vf-f\", \"lithology\":\"sand\"', width='3.0')"
      ]
     },
     "execution_count": 4,
     "metadata": {},
     "output_type": "execute_result"
    }
   ],
   "source": [
    "d = {'color': '#86F0B6',\n",
    "     'component': rock,\n",
    "     'width': 3}\n",
    "decor = Decor(d)\n",
    "decor"
   ]
  },
  {
   "cell_type": "markdown",
   "metadata": {},
   "source": [
    "You can access its attributes. It has two ways to understand colour:"
   ]
  },
  {
   "cell_type": "code",
   "execution_count": 5,
   "metadata": {
    "collapsed": false
   },
   "outputs": [
    {
     "data": {
      "text/plain": [
       "'#86f0b6'"
      ]
     },
     "execution_count": 5,
     "metadata": {},
     "output_type": "execute_result"
    }
   ],
   "source": [
    "decor.colour"
   ]
  },
  {
   "cell_type": "code",
   "execution_count": 6,
   "metadata": {
    "collapsed": false
   },
   "outputs": [
    {
     "data": {
      "text/plain": [
       "(134, 240, 182)"
      ]
     },
     "execution_count": 6,
     "metadata": {},
     "output_type": "execute_result"
    }
   ],
   "source": [
    "decor.rgb"
   ]
  },
  {
   "cell_type": "code",
   "execution_count": 7,
   "metadata": {
    "collapsed": false
   },
   "outputs": [
    {
     "data": {
      "image/png": "[encoded data removed]",
      "text/plain": [
       "<matplotlib.figure.Figure at 0x7f5906f1ef60>"
      ]
     },
     "metadata": {},
     "output_type": "display_data"
    }
   ],
   "source": [
    "%matplotlib inline\n",
    "decor.plot()"
   ]
  },
  {
   "cell_type": "markdown",
   "metadata": {},
   "source": [
    "<hr />"
   ]
  },
  {
   "cell_type": "markdown",
   "metadata": {},
   "source": [
    "## Legend"
   ]
  },
  {
   "cell_type": "code",
   "execution_count": 8,
   "metadata": {
    "collapsed": false
   },
   "outputs": [
    {
     "name": "stdout",
     "output_type": "stream",
     "text": [
      "\n",
      "    A look-up table to assist in the conversion of Components to\n",
      "    a plot colour.\n",
      "\n",
      "    Args:\n",
      "        list_of_Decors (list): The decors to collect into a legend. In\n",
      "            general, you will want to leave legend building to the constructor\n",
      "            class methods, `Legend.default()`, and `Legend.from_csv(string)`.\n",
      "            We can add others over time, such as `from_xls` and so on.\n",
      "    \n"
     ]
    }
   ],
   "source": [
    "from striplog import Legend\n",
    "print(Legend.__doc__)"
   ]
  },
  {
   "cell_type": "markdown",
   "metadata": {},
   "source": [
    "We'll define a legend in a CSV file. I can't think of a better way for now. It would be easy to make a web form to facilitate this with, for example, a colour picker. It may not be worth it, though; I imagine one would create one and then leave it alone most of the time. "
   ]
  },
  {
   "cell_type": "code",
   "execution_count": 9,
   "metadata": {
    "collapsed": false
   },
   "outputs": [],
   "source": [
    "l = u\"\"\"colour, width, component lithology, component colour, component grainsize\n",
    "#F7E9A6, 3, Sandstone, Grey, VF-F\n",
    "#FF99CC, 2, Anhydrite, , \n",
    "#DBD6BC, 3, Heterolithic, Grey, \n",
    "#FF4C4A, 2, Volcanic, , \n",
    "#86F0B6, 5, Conglomerate, , \n",
    "#FF96F6, 2, Halite, , \n",
    "#F2FF42, 4, Sandstone, Grey, F-M\n",
    "#DBC9BC, 3, Heterolithic, Red, \n",
    "#A68374, 2, Siltstone, Grey, \n",
    "#A657FA, 3, Dolomite, , \n",
    "#FFD073, 4, Sandstone, Red, C-M\n",
    "#A6D1FF, 3, Limestone, , \n",
    "#FFDBBA, 3, Sandstone, Red, VF-F\n",
    "#FFE040, 4, Sandstone, Grey, C-M\n",
    "#A1655A, 2, Siltstone, Red, \n",
    "#363434, 1, Coal, , \n",
    "#664A4A, 1, Mudstone, Red, \n",
    "#666666, 1, Mudstone, Grey, \"\"\""
   ]
  },
  {
   "cell_type": "code",
   "execution_count": 10,
   "metadata": {
    "collapsed": false
   },
   "outputs": [
    {
     "data": {
      "text/plain": [
       "Legend(colour='#f7e9a6', component='\"colour\":\"grey\", \"grainsize\":\"vf-f\", \"lithology\":\"sandstone\"', width='3.0'\n",
       "colour='#ff99cc', component='\"lithology\":\"anhydrite\"', width='2.0'\n",
       "colour='#dbd6bc', component='\"colour\":\"grey\", \"lithology\":\"heterolithic\"', width='3.0'\n",
       "colour='#ff4c4a', component='\"lithology\":\"volcanic\"', width='2.0'\n",
       "colour='#86f0b6', component='\"lithology\":\"conglomerate\"', width='5.0')"
      ]
     },
     "execution_count": 10,
     "metadata": {},
     "output_type": "execute_result"
    }
   ],
   "source": [
    "legend = Legend.from_csv(l)\n",
    "legend[:5]"
   ]
  },
  {
   "cell_type": "code",
   "execution_count": 11,
   "metadata": {
    "collapsed": false
   },
   "outputs": [
    {
     "name": "stdout",
     "output_type": "stream",
     "text": [
      "colour,width,component grainsize,component colour,component lithology\n",
      "#f7e9a6,3.0,vf-f,grey,sandstone,\n",
      "#ff99cc,2.0,,,anhydrite,\n",
      "#dbd6bc,3.0,,grey,heterolithic,\n",
      "#ff4c4a,2.0,,,volcanic,\n",
      "#86f0b6,5.0,,,conglomerate,\n",
      "#ff96f6,2.0,,,halite,\n",
      "#f2ff42,4.0,f-m,grey,sandstone,\n",
      "#dbc9bc,3.0,,red,heterolithic,\n",
      "#a68374,2.0,,grey,siltstone,\n",
      "#a657fa,3.0,,,dolomite,\n",
      "#ffd073,4.0,c-m,red,sandstone,\n",
      "#a6d1ff,3.0,,,limestone,\n",
      "#ffdbba,3.0,vf-f,red,sandstone,\n",
      "#ffe040,4.0,c-m,grey,sandstone,\n",
      "#a1655a,2.0,,red,siltstone,\n",
      "#363434,1.0,,,coal,\n",
      "#664a4a,1.0,,red,mudstone,\n",
      "#666666,1.0,,grey,mudstone,\n",
      "\n"
     ]
    }
   ],
   "source": [
    "legend = Legend.default()\n",
    "print(legend.to_csv())"
   ]
  },
  {
   "cell_type": "markdown",
   "metadata": {},
   "source": [
    "In fact, this is the default legend. "
   ]
  },
  {
   "cell_type": "code",
   "execution_count": 12,
   "metadata": {
    "collapsed": false
   },
   "outputs": [
    {
     "data": {
      "text/plain": [
       "Legend(colour='#f7e9a6', component='\"colour\":\"grey\", \"grainsize\":\"vf-f\", \"lithology\":\"sandstone\"', width='3.0'\n",
       "colour='#ff99cc', component='\"lithology\":\"anhydrite\"', width='2.0'\n",
       "colour='#dbd6bc', component='\"colour\":\"grey\", \"lithology\":\"heterolithic\"', width='3.0'\n",
       "colour='#ff4c4a', component='\"lithology\":\"volcanic\"', width='2.0'\n",
       "colour='#86f0b6', component='\"lithology\":\"conglomerate\"', width='5.0'\n",
       "colour='#ff96f6', component='\"lithology\":\"halite\"', width='2.0'\n",
       "colour='#f2ff42', component='\"colour\":\"grey\", \"grainsize\":\"f-m\", \"lithology\":\"sandstone\"', width='4.0'\n",
       "colour='#dbc9bc', component='\"colour\":\"red\", \"lithology\":\"heterolithic\"', width='3.0'\n",
       "colour='#a68374', component='\"colour\":\"grey\", \"lithology\":\"siltstone\"', width='2.0'\n",
       "colour='#a657fa', component='\"lithology\":\"dolomite\"', width='3.0'\n",
       "colour='#ffd073', component='\"colour\":\"red\", \"grainsize\":\"c-m\", \"lithology\":\"sandstone\"', width='4.0'\n",
       "colour='#a6d1ff', component='\"lithology\":\"limestone\"', width='3.0'\n",
       "colour='#ffdbba', component='\"colour\":\"red\", \"grainsize\":\"vf-f\", \"lithology\":\"sandstone\"', width='3.0'\n",
       "colour='#ffe040', component='\"colour\":\"grey\", \"grainsize\":\"c-m\", \"lithology\":\"sandstone\"', width='4.0'\n",
       "colour='#a1655a', component='\"colour\":\"red\", \"lithology\":\"siltstone\"', width='2.0'\n",
       "colour='#363434', component='\"lithology\":\"coal\"', width='1.0'\n",
       "colour='#664a4a', component='\"colour\":\"red\", \"lithology\":\"mudstone\"', width='1.0'\n",
       "colour='#666666', component='\"colour\":\"grey\", \"lithology\":\"mudstone\"', width='1.0')"
      ]
     },
     "execution_count": 12,
     "metadata": {},
     "output_type": "execute_result"
    }
   ],
   "source": [
    "Legend.default()"
   ]
  },
  {
   "cell_type": "markdown",
   "metadata": {},
   "source": [
    "We can ask the Legend what colour to use for a given Rock object:"
   ]
  },
  {
   "cell_type": "code",
   "execution_count": 13,
   "metadata": {
    "collapsed": false
   },
   "outputs": [
    {
     "data": {
      "text/plain": [
       "'#eeeeee'"
      ]
     },
     "execution_count": 13,
     "metadata": {},
     "output_type": "execute_result"
    }
   ],
   "source": [
    "legend.get_colour(rock)"
   ]
  },
  {
   "cell_type": "code",
   "execution_count": 14,
   "metadata": {
    "collapsed": false
   },
   "outputs": [
    {
     "data": {
      "text/plain": [
       "'#ffdbba'"
      ]
     },
     "execution_count": 14,
     "metadata": {},
     "output_type": "execute_result"
    }
   ],
   "source": [
    "rock3 = Component({'colour': 'red',\n",
    "           'grainsize': 'vf-f',\n",
    "           'lithology': 'sandstone'})\n",
    "legend.get_colour(rock3)"
   ]
  },
  {
   "cell_type": "markdown",
   "metadata": {},
   "source": [
    "Sometimes we also want to use a width for a given lithology:"
   ]
  },
  {
   "cell_type": "code",
   "execution_count": 15,
   "metadata": {
    "collapsed": false
   },
   "outputs": [
    {
     "data": {
      "text/plain": [
       "3.0"
      ]
     },
     "execution_count": 15,
     "metadata": {},
     "output_type": "execute_result"
    }
   ],
   "source": [
    "legend.get_width(rock3)"
   ]
  },
  {
   "cell_type": "markdown",
   "metadata": {},
   "source": [
    "We can also ask the legend which Rock is represented by a particular colour. (I doubt you'd ever really need to do this, but I had to implement this to allow you to make a `Striplog` from an image: it looks up the rocks to use by colour.)"
   ]
  },
  {
   "cell_type": "code",
   "execution_count": 16,
   "metadata": {
    "collapsed": false
   },
   "outputs": [
    {
     "data": {
      "text/plain": [
       "Component(\"colour\":\"grey\", \"grainsize\":\"vf-f\", \"lithology\":\"sandstone\")"
      ]
     },
     "execution_count": 16,
     "metadata": {},
     "output_type": "execute_result"
    }
   ],
   "source": [
    "legend.get_component('#f7e9a6')"
   ]
  },
  {
   "cell_type": "markdown",
   "metadata": {},
   "source": [
    "The `Legend` behaves more or less like a list, so we can index into it:"
   ]
  },
  {
   "cell_type": "code",
   "execution_count": 17,
   "metadata": {
    "collapsed": false
   },
   "outputs": [
    {
     "data": {
      "text/plain": [
       "Legend(colour='#ff4c4a', component='\"lithology\":\"volcanic\"', width='2.0'\n",
       "colour='#86f0b6', component='\"lithology\":\"conglomerate\"', width='5.0')"
      ]
     },
     "execution_count": 17,
     "metadata": {},
     "output_type": "execute_result"
    }
   ],
   "source": [
    "legend[3:5]"
   ]
  },
  {
   "cell_type": "markdown",
   "metadata": {},
   "source": [
    "`Legend`s can plot themselves. "
   ]
  },
  {
   "cell_type": "code",
   "execution_count": 18,
   "metadata": {
    "collapsed": false
   },
   "outputs": [
    {
     "data": {
      "image/png": "[encoded data removed]",
      "text/plain": [
       "<matplotlib.figure.Figure at 0x7f5906e61898>"
      ]
     },
     "metadata": {},
     "output_type": "display_data"
    },
    {
     "data": {
      "image/png": "[encoded data removed]",
      "text/plain": [
       "<matplotlib.figure.Figure at 0x7f5906e62400>"
      ]
     },
     "metadata": {},
     "output_type": "display_data"
    },
    {
     "data": {
      "image/png": "[encoded data removed]",
      "text/plain": [
       "<matplotlib.figure.Figure at 0x7f5906e48908>"
      ]
     },
     "metadata": {},
     "output_type": "display_data"
    },
    {
     "data": {
      "image/png": "[encoded data removed]",
      "text/plain": [
       "<matplotlib.figure.Figure at 0x7f5906d987b8>"
      ]
     },
     "metadata": {},
     "output_type": "display_data"
    },
    {
     "data": {
      "image/png": "[encoded data removed]",
      "text/plain": [
       "<matplotlib.figure.Figure at 0x7f5906d6a668>"
      ]
     },
     "metadata": {},
     "output_type": "display_data"
    },
    {
     "data": {
      "image/png": "[encoded data removed]",
      "text/plain": [
       "<matplotlib.figure.Figure at 0x7f5906d3b518>"
      ]
     },
     "metadata": {},
     "output_type": "display_data"
    },
    {
     "data": {
      "image/png": "[encoded data removed]",
      "text/plain": [
       "<matplotlib.figure.Figure at 0x7f5906d0d400>"
      ]
     },
     "metadata": {},
     "output_type": "display_data"
    },
    {
     "data": {
      "image/png": "[encoded data removed]",
      "text/plain": [
       "<matplotlib.figure.Figure at 0x7f5906d02438>"
      ]
     },
     "metadata": {},
     "output_type": "display_data"
    },
    {
     "data": {
      "image/png": "[encoded data removed]",
      "text/plain": [
       "<matplotlib.figure.Figure at 0x7f5906df3128>"
      ]
     },
     "metadata": {},
     "output_type": "display_data"
    },
    {
     "data": {
      "image/png": "[encoded data removed]",
      "text/plain": [
       "<matplotlib.figure.Figure at 0x7f5906f034a8>"
      ]
     },
     "metadata": {},
     "output_type": "display_data"
    },
    {
     "data": {
      "image/png": "[encoded data removed]",
      "text/plain": [
       "<matplotlib.figure.Figure at 0x7f5906caf780>"
      ]
     },
     "metadata": {},
     "output_type": "display_data"
    },
    {
     "data": {
      "image/png": "[encoded data removed]",
      "text/plain": [
       "<matplotlib.figure.Figure at 0x7f5906e3d630>"
      ]
     },
     "metadata": {},
     "output_type": "display_data"
    },
    {
     "data": {
      "image/png": "[encoded data removed]",
      "text/plain": [
       "<matplotlib.figure.Figure at 0x7f5906e034e0>"
      ]
     },
     "metadata": {},
     "output_type": "display_data"
    },
    {
     "data": {
      "image/png": "[encoded data removed]",
      "text/plain": [
       "<matplotlib.figure.Figure at 0x7f5906da6390>"
      ]
     },
     "metadata": {},
     "output_type": "display_data"
    },
    {
     "data": {
      "image/png": "[encoded data removed]",
      "text/plain": [
       "<matplotlib.figure.Figure at 0x7f5906c67240>"
      ]
     },
     "metadata": {},
     "output_type": "display_data"
    },
    {
     "data": {
      "image/png": "[encoded data removed]",
      "text/plain": [
       "<matplotlib.figure.Figure at 0x7f5906c370f0>"
      ]
     },
     "metadata": {},
     "output_type": "display_data"
    },
    {
     "data": {
      "image/png": "[encoded data removed]",
      "text/plain": [
       "<matplotlib.figure.Figure at 0x7f5906c080f0>"
      ]
     },
     "metadata": {},
     "output_type": "display_data"
    },
    {
     "data": {
      "image/png": "[encoded data removed]",
      "text/plain": [
       "<matplotlib.figure.Figure at 0x7f5906bccf98>"
      ]
     },
     "metadata": {},
     "output_type": "display_data"
    }
   ],
   "source": [
    "legend.plot()"
   ]
  },
  {
   "cell_type": "markdown",
   "metadata": {},
   "source": [
    "Sometimes you don't want to have to make a legend, so you can use a random one. Just pass a list of `Component`s..."
   ]
  },
  {
   "cell_type": "code",
   "execution_count": 20,
   "metadata": {
    "collapsed": false
   },
   "outputs": [
    {
     "data": {
      "image/png": "[encoded data removed]",
      "text/plain": [
       "<matplotlib.figure.Figure at 0x7f5906b80fd0>"
      ]
     },
     "metadata": {},
     "output_type": "display_data"
    },
    {
     "data": {
      "image/png": "[encoded data removed]",
      "text/plain": [
       "<matplotlib.figure.Figure at 0x7f5906d89a58>"
      ]
     },
     "metadata": {},
     "output_type": "display_data"
    },
    {
     "data": {
      "image/png": "[encoded data removed]",
      "text/plain": [
       "<matplotlib.figure.Figure at 0x7f5906ee26a0>"
      ]
     },
     "metadata": {},
     "output_type": "display_data"
    },
    {
     "data": {
      "image/png": "[encoded data removed]",
      "text/plain": [
       "<matplotlib.figure.Figure at 0x7f5906ef3b38>"
      ]
     },
     "metadata": {},
     "output_type": "display_data"
    },
    {
     "data": {
      "image/png": "[encoded data removed]",
      "text/plain": [
       "<matplotlib.figure.Figure at 0x7f5906d17cc0>"
      ]
     },
     "metadata": {},
     "output_type": "display_data"
    },
    {
     "data": {
      "image/png": "[encoded data removed]",
      "text/plain": [
       "<matplotlib.figure.Figure at 0x7f5906d3ff28>"
      ]
     },
     "metadata": {},
     "output_type": "display_data"
    },
    {
     "data": {
      "image/png": "[encoded data removed]",
      "text/plain": [
       "<matplotlib.figure.Figure at 0x7f5906d9fb38>"
      ]
     },
     "metadata": {},
     "output_type": "display_data"
    }
   ],
   "source": [
    "# We'll scrape a quick list of 7 components from the default legend:\n",
    "c = [d.component for d in legend[:7]]\n",
    "\n",
    "l = Legend.random(c)\n",
    "l.plot()"
   ]
  },
  {
   "cell_type": "markdown",
   "metadata": {},
   "source": [
    "<hr />\n",
    "\n",
    "<p style=\"color:gray\">©2015 Agile Geoscience. Licensed CC-BY. <a href=\"https://github.com/agile-geoscience/striplog\">striplog.py</a></p>"
   ]
  }
 ],
 "metadata": {
  "kernelspec": {
   "display_name": "Python 3",
   "language": "python",
   "name": "python3"
  },
  "language_info": {
   "codemirror_mode": {
    "name": "ipython",
    "version": 3
   },
   "file_extension": ".py",
   "mimetype": "text/x-python",
   "name": "python",
   "nbconvert_exporter": "python",
   "pygments_lexer": "ipython3",
   "version": "3.4.3"
  }
 },
 "nbformat": 4,
 "nbformat_minor": 0
}
